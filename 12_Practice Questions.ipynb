{
 "cells": [
  {
   "cell_type": "markdown",
   "id": "1017f1eb",
   "metadata": {},
   "source": [
    "### 1. Write a Pandas program to create and display a one-dimensional array-like object containing an array of data.\n",
    "\n"
   ]
  },
  {
   "cell_type": "code",
   "execution_count": 1,
   "id": "6f8942fa",
   "metadata": {
    "scrolled": true
   },
   "outputs": [
    {
     "data": {
      "text/plain": [
       "0     2\n",
       "1     4\n",
       "2     6\n",
       "3     8\n",
       "4    10\n",
       "dtype: int64"
      ]
     },
     "execution_count": 1,
     "metadata": {},
     "output_type": "execute_result"
    }
   ],
   "source": [
    "import pandas as pd\n",
    "df=pd.Series([2,4,6,8,10])\n",
    "df"
   ]
  },
  {
   "cell_type": "markdown",
   "id": "853cb666",
   "metadata": {},
   "source": [
    "### 2. Write a Pandas program to convert a Panda module Series to Python list and it’s type.\n",
    "\n"
   ]
  },
  {
   "cell_type": "code",
   "execution_count": 6,
   "id": "8390140a",
   "metadata": {},
   "outputs": [
    {
     "name": "stdout",
     "output_type": "stream",
     "text": [
      "<class 'pandas.core.series.Series'>\n",
      "<class 'list'>\n"
     ]
    }
   ],
   "source": [
    "df=pd.Series([2,4,6,8,10])\n",
    "print(type(df))\n",
    "\n",
    "list_df=list(df)    # or df.tolist()\n",
    "print(type(list_df))"
   ]
  },
  {
   "cell_type": "markdown",
   "id": "a3c08d6d",
   "metadata": {},
   "source": [
    "### 3. Write a Pandas program to add, subtract, multiple and divide two Pandas Series"
   ]
  },
  {
   "cell_type": "code",
   "execution_count": 11,
   "id": "8a317cd4",
   "metadata": {},
   "outputs": [
    {
     "name": "stdout",
     "output_type": "stream",
     "text": [
      "0     2\n",
      "1     6\n",
      "2    13\n",
      "dtype: int64\n",
      "\n",
      "0    1.000000\n",
      "1    2.000000\n",
      "2    3.333333\n",
      "dtype: float64\n"
     ]
    }
   ],
   "source": [
    "df=pd.Series([1,2,3])\n",
    "df1=pd.Series([1,4,10])\n",
    "print(df+df1)\n",
    "print()\n",
    "print(df1/df)"
   ]
  },
  {
   "cell_type": "markdown",
   "id": "bd5f3625",
   "metadata": {},
   "source": [
    "### 4. Write a Pandas program to convert a dictionary to a Pandas series."
   ]
  },
  {
   "cell_type": "code",
   "execution_count": 17,
   "id": "ffff5299",
   "metadata": {},
   "outputs": [
    {
     "data": {
      "text/plain": [
       "pandas.core.series.Series"
      ]
     },
     "execution_count": 17,
     "metadata": {},
     "output_type": "execute_result"
    }
   ],
   "source": [
    "dict={'a': 100, 'b': 200, 'c': 300, 'd': 400, 'e': 800}\n",
    "Series1=pd.Series(dict)\n",
    "type(Series1)"
   ]
  },
  {
   "cell_type": "markdown",
   "id": "89a880c4",
   "metadata": {},
   "source": [
    "### 5. Write a Pandas program to convert a NumPy array to a Pandas series"
   ]
  },
  {
   "cell_type": "code",
   "execution_count": 21,
   "id": "16456163",
   "metadata": {},
   "outputs": [
    {
     "data": {
      "text/plain": [
       "pandas.core.series.Series"
      ]
     },
     "execution_count": 21,
     "metadata": {},
     "output_type": "execute_result"
    }
   ],
   "source": [
    "import numpy as np\n",
    "a=np.array([1,2,3])\n",
    "b=pd.Series(a)\n",
    "type(b)"
   ]
  },
  {
   "cell_type": "markdown",
   "id": "1c3b6a4e",
   "metadata": {},
   "source": [
    "### 6. Write a Pandas program to change the data type of given a column or a Series"
   ]
  },
  {
   "cell_type": "code",
   "execution_count": 33,
   "id": "07562174",
   "metadata": {},
   "outputs": [
    {
     "data": {
      "text/plain": [
       "0    100.00\n",
       "1    200.00\n",
       "2       NaN\n",
       "3    300.12\n",
       "4    400.00\n",
       "dtype: float64"
      ]
     },
     "execution_count": 33,
     "metadata": {},
     "output_type": "execute_result"
    }
   ],
   "source": [
    "df=pd.Series(['100', '200', 'python', '300.12', '400'])\n",
    "pd.to_numeric(df , errors='coerce')\n",
    "\n",
    "# https://pandas.pydata.org/docs/reference/api/pandas.to_numeric.html"
   ]
  },
  {
   "cell_type": "markdown",
   "id": "26f1e8ca",
   "metadata": {},
   "source": [
    "### 7. Write a Pandas program to convert the first column of a DataFrame as a Series."
   ]
  },
  {
   "cell_type": "code",
   "execution_count": 38,
   "id": "01b405e7",
   "metadata": {},
   "outputs": [
    {
     "name": "stdout",
     "output_type": "stream",
     "text": [
      "     first  last\n",
      "0  Vaibhav  Nath\n",
      "1      Sam   Roh\n",
      "\n",
      "0    Vaibhav\n",
      "1        Sam\n",
      "Name: first, dtype: object\n"
     ]
    },
    {
     "data": {
      "text/plain": [
       "pandas.core.series.Series"
      ]
     },
     "execution_count": 38,
     "metadata": {},
     "output_type": "execute_result"
    }
   ],
   "source": [
    "person={\n",
    "    'first':['Vaibhav' , 'Sam'],\n",
    "    'last':['Nath' , 'Roh']\n",
    "}\n",
    "df=pd.DataFrame(person)   #create a dataframe.\n",
    "print(df)\n",
    "print()\n",
    "a=df['first']     #convert a column to Series\n",
    "print(a)\n",
    "type(a)      #returns type of Series"
   ]
  },
  {
   "cell_type": "markdown",
   "id": "6eef37f2",
   "metadata": {},
   "source": [
    "### 8. Write a Pandas program to convert a given Series to an array"
   ]
  },
  {
   "cell_type": "code",
   "execution_count": 46,
   "id": "7fb8f7fd",
   "metadata": {},
   "outputs": [
    {
     "name": "stdout",
     "output_type": "stream",
     "text": [
      "0       100\n",
      "1       200\n",
      "2    python\n",
      "3    300.12\n",
      "4       400\n",
      "dtype: object\n",
      "\n",
      "['100' '200' 'python' '300.12' '400']\n"
     ]
    }
   ],
   "source": [
    "df=pd.Series(['100', '200', 'python', '300.12', '400'])\n",
    "print(df)\n",
    "print()\n",
    "a=np.array(df)\n",
    "print(a)"
   ]
  },
  {
   "cell_type": "markdown",
   "id": "7573320c",
   "metadata": {},
   "source": [
    "### 9. Write a Pandas program to convert Series of lists to one Series.\n",
    "\n"
   ]
  },
  {
   "cell_type": "code",
   "execution_count": 5,
   "id": "30bab171",
   "metadata": {},
   "outputs": [
    {
     "data": {
      "text/plain": [
       "0       Red\n",
       "1     Green\n",
       "2     White\n",
       "3       Red\n",
       "4     Black\n",
       "5    Yellow\n",
       "dtype: object"
      ]
     },
     "execution_count": 5,
     "metadata": {},
     "output_type": "execute_result"
    }
   ],
   "source": [
    "s = pd.Series([\n",
    "    ['Red', 'Green', 'White'],\n",
    "    ['Red', 'Black'],\n",
    "    ['Yellow']])\n",
    "s.apply(pd.Series).stack().reset_index(drop=True)"
   ]
  },
  {
   "cell_type": "markdown",
   "id": "1c0ce629",
   "metadata": {},
   "source": [
    "### 10. Write a Pandas program to sort a given Series.\n",
    "\n"
   ]
  },
  {
   "cell_type": "code",
   "execution_count": 18,
   "id": "3277ca10",
   "metadata": {},
   "outputs": [
    {
     "data": {
      "text/plain": [
       "5        -1\n",
       "4         0\n",
       "2         1\n",
       "3         3\n",
       "0         4\n",
       "1         5\n",
       "6    python\n",
       "dtype: object"
      ]
     },
     "execution_count": 18,
     "metadata": {},
     "output_type": "execute_result"
    }
   ],
   "source": [
    "a=pd.Series(['4','5','1','3','0','-1','python'])\n",
    "pd.Series.sort_values(a)"
   ]
  },
  {
   "cell_type": "markdown",
   "id": "702e5814",
   "metadata": {},
   "source": [
    "### 11. Write a Pandas program to add some data to an existing Series."
   ]
  },
  {
   "cell_type": "code",
   "execution_count": 23,
   "id": "e31e785f",
   "metadata": {},
   "outputs": [
    {
     "data": {
      "text/plain": [
       "0         4\n",
       "1         5\n",
       "2         1\n",
       "3         3\n",
       "4         0\n",
       "5        -1\n",
       "6    python\n",
       "0         7\n",
       "1         8\n",
       "dtype: object"
      ]
     },
     "execution_count": 23,
     "metadata": {},
     "output_type": "execute_result"
    }
   ],
   "source": [
    "a=pd.Series(['4','5','1','3','0','-1','python'])\n",
    "a.append(pd.Series(['7','8']))"
   ]
  },
  {
   "cell_type": "markdown",
   "id": "e9a0379e",
   "metadata": {},
   "source": [
    "### 12. Write a Pandas program to create a subset of a given series based on value and condition.\n",
    "\n"
   ]
  },
  {
   "cell_type": "code",
   "execution_count": 28,
   "id": "298fbaf8",
   "metadata": {},
   "outputs": [
    {
     "data": {
      "text/plain": [
       "0    0\n",
       "1    1\n",
       "2    2\n",
       "3    3\n",
       "4    4\n",
       "dtype: int64"
      ]
     },
     "execution_count": 28,
     "metadata": {},
     "output_type": "execute_result"
    }
   ],
   "source": [
    "a=pd.Series([0,1,2,3,4,5,6,7,8,9])\n",
    "n=5\n",
    "b=a[a<n]\n",
    "b"
   ]
  },
  {
   "cell_type": "markdown",
   "id": "d15e3c0a",
   "metadata": {},
   "source": [
    "### 13. Write a Pandas program to change the order of index of a given series.\n",
    "\n"
   ]
  },
  {
   "cell_type": "code",
   "execution_count": 39,
   "id": "95034dc7",
   "metadata": {},
   "outputs": [
    {
     "name": "stdout",
     "output_type": "stream",
     "text": [
      "b    7\n",
      "a    1\n",
      "c    2\n",
      "e    3\n",
      "d    4\n",
      "dtype: int64\n"
     ]
    },
    {
     "data": {
      "text/plain": [
       "a    1\n",
       "b    7\n",
       "c    2\n",
       "d    4\n",
       "e    3\n",
       "dtype: int64"
      ]
     },
     "execution_count": 39,
     "metadata": {},
     "output_type": "execute_result"
    }
   ],
   "source": [
    "a=pd.Series([7,1,2,3,4] , index=['b','a','c','e','d'])\n",
    "print(a)\n",
    "a=a.reindex(index=['a','b','c','d','e'])\n",
    "a"
   ]
  },
  {
   "cell_type": "markdown",
   "id": "21ec7d89",
   "metadata": {},
   "source": [
    "### 14. Write a Pandas program to create the mean and standard deviation of the data of a given Series.\n",
    "\n"
   ]
  },
  {
   "cell_type": "code",
   "execution_count": 43,
   "id": "4c445645",
   "metadata": {},
   "outputs": [
    {
     "name": "stdout",
     "output_type": "stream",
     "text": [
      "3.4\n",
      "3.0\n",
      "2.3021728866442674\n"
     ]
    }
   ],
   "source": [
    "a=pd.Series([7,1,2,3,4])\n",
    "print(a.mean())\n",
    "print(a.median())\n",
    "print(a.std())"
   ]
  },
  {
   "cell_type": "markdown",
   "id": "bdcfcda5",
   "metadata": {},
   "source": [
    "### 15. Write a Pandas program to get the items of a given series not present in another given series.\n",
    "\n"
   ]
  },
  {
   "cell_type": "code",
   "execution_count": 45,
   "id": "aa1f2fed",
   "metadata": {},
   "outputs": [
    {
     "data": {
      "text/plain": [
       "0    1\n",
       "2    3\n",
       "4    5\n",
       "dtype: int64"
      ]
     },
     "execution_count": 45,
     "metadata": {},
     "output_type": "execute_result"
    }
   ],
   "source": [
    "a=pd.Series([1,2,3,4,5])\n",
    "b=pd.Series([2,4,6,8,10])\n",
    "r=a[~a.isin(b)]\n",
    "r"
   ]
  },
  {
   "cell_type": "markdown",
   "id": "547505fa",
   "metadata": {},
   "source": [
    "### 16. Write a Pandas program to get the items which are not common of two given series.\n",
    "\n"
   ]
  },
  {
   "cell_type": "code",
   "execution_count": 54,
   "id": "d0246c96",
   "metadata": {},
   "outputs": [
    {
     "name": "stdout",
     "output_type": "stream",
     "text": [
      "0     1\n",
      "1     2\n",
      "2     3\n",
      "3     4\n",
      "4     5\n",
      "5     6\n",
      "6     8\n",
      "7    10\n",
      "dtype: int64\n",
      "\n",
      "0    2\n",
      "1    4\n",
      "dtype: int64\n"
     ]
    },
    {
     "data": {
      "text/plain": [
       "0     1\n",
       "2     3\n",
       "4     5\n",
       "5     6\n",
       "6     8\n",
       "7    10\n",
       "dtype: int64"
      ]
     },
     "execution_count": 54,
     "metadata": {},
     "output_type": "execute_result"
    }
   ],
   "source": [
    "import numpy as np\n",
    "a=pd.Series([1,2,3,4,5])\n",
    "b=pd.Series([2,4,6,8,10])\n",
    "a1=pd.Series(np.union1d(a,b))\n",
    "print(a1)\n",
    "print()\n",
    "b1=pd.Series(np.intersect1d(a,b))\n",
    "print(b1)\n",
    "r=a1[~a1.isin(b1)]\n",
    "r"
   ]
  },
  {
   "cell_type": "markdown",
   "id": "32c2b8ab",
   "metadata": {},
   "source": [
    "### 17. Write a Pandas program to compute the minimum, 25th percentile, median, 75th, and maximum of a given series.\n",
    "\n"
   ]
  },
  {
   "cell_type": "code",
   "execution_count": 77,
   "id": "43f7a532",
   "metadata": {},
   "outputs": [
    {
     "name": "stdout",
     "output_type": "stream",
     "text": [
      "0      8.250235\n",
      "1     10.342680\n",
      "2     11.153036\n",
      "3      9.747564\n",
      "4     10.981321\n",
      "5     10.514219\n",
      "6     10.221180\n",
      "7      8.929957\n",
      "8      9.810504\n",
      "9     10.255001\n",
      "10     9.541973\n",
      "11    10.435163\n",
      "12     9.416405\n",
      "13    10.816847\n",
      "14    10.672721\n",
      "15     9.895589\n",
      "16     9.468720\n",
      "17    11.029733\n",
      "18     9.561864\n",
      "19     8.881682\n",
      "dtype: float64\n",
      "\n",
      "[ 8.25023453  9.52365967 10.05838426 10.55384433 11.1530358 ]\n"
     ]
    }
   ],
   "source": [
    "a=np.random.RandomState(100)\n",
    "b=pd.Series(a.normal(10,1,20))   # 10-->mean , 1-->std (both approximate for Series.) , 20-->no. of terms\n",
    "print(b)\n",
    "print()\n",
    "r=np.percentile(b , q=[0,25,50,75,100])\n",
    "print(r)"
   ]
  },
  {
   "cell_type": "markdown",
   "id": "0b48db35",
   "metadata": {},
   "source": [
    "### 18. Write a Pandas program to calculate the frequency counts of each unique value of a given series.\n",
    "\n"
   ]
  },
  {
   "cell_type": "code",
   "execution_count": 11,
   "id": "ea6df36b",
   "metadata": {},
   "outputs": [
    {
     "name": "stdout",
     "output_type": "stream",
     "text": [
      "0    1\n",
      "1    2\n",
      "2    2\n",
      "3    2\n",
      "4    4\n",
      "5    2\n",
      "6    1\n",
      "7    3\n",
      "dtype: int32\n",
      "2    4\n",
      "1    2\n",
      "3    1\n",
      "4    1\n",
      "dtype: int64\n"
     ]
    }
   ],
   "source": [
    "import numpy as np\n",
    "n=pd.Series(np.random.randint(1,5,8))\n",
    "print(n)\n",
    "b=n.value_counts()\n",
    "print(b)"
   ]
  },
  {
   "cell_type": "markdown",
   "id": "9dca8449",
   "metadata": {},
   "source": [
    "### 19. Write a Pandas program to display most frequent value in a given series and replace everything else as 'Other' in the series."
   ]
  },
  {
   "cell_type": "code",
   "execution_count": 15,
   "id": "005c406e",
   "metadata": {},
   "outputs": [
    {
     "name": "stdout",
     "output_type": "stream",
     "text": [
      "0    1\n",
      "1    4\n",
      "2    3\n",
      "3    2\n",
      "4    1\n",
      "5    3\n",
      "6    4\n",
      "7    1\n",
      "dtype: int32\n",
      "1    3\n",
      "3    2\n",
      "4    2\n",
      "2    1\n",
      "dtype: int64\n",
      "0        1\n",
      "1    Other\n",
      "2    Other\n",
      "3    Other\n",
      "4        1\n",
      "5    Other\n",
      "6    Other\n",
      "7        1\n",
      "dtype: object\n"
     ]
    }
   ],
   "source": [
    "import numpy as np\n",
    "n=pd.Series(np.random.randint(1,5,8))\n",
    "print(n)\n",
    "b=n.value_counts()\n",
    "print(b)\n",
    "result = n[~n.isin(n.value_counts().index[:1])] = 'Other'\n",
    "print(n)"
   ]
  },
  {
   "cell_type": "markdown",
   "id": "64702009",
   "metadata": {},
   "source": [
    "### 20. Write a Pandas program to find the positions of numbers that are multiples of 5 of a given series."
   ]
  },
  {
   "cell_type": "code",
   "execution_count": 35,
   "id": "b129da44",
   "metadata": {},
   "outputs": [
    {
     "name": "stdout",
     "output_type": "stream",
     "text": [
      "0    9\n",
      "1    2\n",
      "2    8\n",
      "3    5\n",
      "4    5\n",
      "5    1\n",
      "6    9\n",
      "7    4\n",
      "8    4\n",
      "9    2\n",
      "dtype: int32\n",
      "[[0 3]\n",
      " [0 4]]\n"
     ]
    }
   ],
   "source": [
    "a=pd.Series(np.random.randint(1,10,10))\n",
    "print(a)\n",
    "r=np.argwhere([a % 5 == 0])\n",
    "print(r)    # 0 is output is the row number of Series."
   ]
  },
  {
   "cell_type": "markdown",
   "id": "8a18b427",
   "metadata": {},
   "source": [
    "### 21. Write a Pandas program to extract items at given positions of a given series.\n",
    "\n"
   ]
  },
  {
   "cell_type": "code",
   "execution_count": 41,
   "id": "302439df",
   "metadata": {},
   "outputs": [
    {
     "name": "stdout",
     "output_type": "stream",
     "text": [
      "0    4\n",
      "1    1\n",
      "2    2\n",
      "3    1\n",
      "4    1\n",
      "5    1\n",
      "6    2\n",
      "7    2\n",
      "8    3\n",
      "9    2\n",
      "dtype: int32\n",
      "\n"
     ]
    },
    {
     "data": {
      "text/plain": [
       "0    4\n",
       "2    2\n",
       "3    1\n",
       "6    2\n",
       "8    3\n",
       "dtype: int32"
      ]
     },
     "execution_count": 41,
     "metadata": {},
     "output_type": "execute_result"
    }
   ],
   "source": [
    "a=pd.Series(np.random.randint(1,5,10))\n",
    "print(a)\n",
    "print()\n",
    "e=[0,2,3,6,8]\n",
    "a.take(e)"
   ]
  },
  {
   "cell_type": "markdown",
   "id": "c753ddbc",
   "metadata": {},
   "source": [
    "### 22. Write a Pandas program to get the positions of items of a given series in another given series.\n",
    "\n"
   ]
  },
  {
   "cell_type": "code",
   "execution_count": 42,
   "id": "ce46a8af",
   "metadata": {},
   "outputs": [
    {
     "name": "stdout",
     "output_type": "stream",
     "text": [
      "[1, 3, 6]\n"
     ]
    }
   ],
   "source": [
    "a=pd.Series([0,4,1,2,44,3,8])\n",
    "b=[4,2,8]\n",
    "r=[pd.Index(a).get_loc(i) for i in b]\n",
    "print(r)"
   ]
  },
  {
   "cell_type": "code",
   "execution_count": 43,
   "id": "db0adeaf",
   "metadata": {},
   "outputs": [],
   "source": [
    "### 23. "
   ]
  },
  {
   "cell_type": "code",
   "execution_count": null,
   "id": "e4ba871f",
   "metadata": {},
   "outputs": [],
   "source": []
  }
 ],
 "metadata": {
  "kernelspec": {
   "display_name": "Python 3",
   "language": "python",
   "name": "python3"
  },
  "language_info": {
   "codemirror_mode": {
    "name": "ipython",
    "version": 3
   },
   "file_extension": ".py",
   "mimetype": "text/x-python",
   "name": "python",
   "nbconvert_exporter": "python",
   "pygments_lexer": "ipython3",
   "version": "3.8.8"
  }
 },
 "nbformat": 4,
 "nbformat_minor": 5
}
